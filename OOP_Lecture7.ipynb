{
 "cells": [
  {
   "cell_type": "markdown",
   "metadata": {},
   "source": [
    "# Last Class"
   ]
  },
  {
   "cell_type": "code",
   "execution_count": null,
   "metadata": {},
   "outputs": [],
   "source": [
    "# Review\n",
    "\n",
    "from IPython.display import Image\n",
    "Image(\"figs/oop_principles.png\", width = 600, height = 500)"
   ]
  },
  {
   "cell_type": "markdown",
   "metadata": {},
   "source": [
    "<font size=\"2\"> **Main topics we covered last time:** </font>\n",
    "<br>\n",
    "<font size=\"2\">\n",
    "1.  Classes \n",
    "\n",
    "2.  Inheritance\n",
    "\n",
    "3.  Polymorphism\n",
    "</font>"
   ]
  },
  {
   "cell_type": "code",
   "execution_count": null,
   "metadata": {},
   "outputs": [],
   "source": [
    "# Review: Inheritance and polymorphism\n",
    "\n",
    "class Animal:\n",
    "    \n",
    "    '''This is the base class'''\n",
    "    \n",
    "    def __init__(self, name):\n",
    "        self.name = name\n",
    "        print(\"My name is \", self.name)\n",
    "    \n",
    "    def make_sound(self):\n",
    "        '''All derived classes should override make_sound()'''\n",
    "        raise NotImplementedError \n",
    "        \n",
    "    \n",
    "class Dog(Animal):\n",
    "   \n",
    "    '''This is a derived class'''\n",
    "    \n",
    "    def make_sound(self):      \n",
    "        return \"woof woof\" \n",
    "    "
   ]
  },
  {
   "cell_type": "code",
   "execution_count": null,
   "metadata": {},
   "outputs": [],
   "source": [
    "# Let's call this emthod on an object and see if it works!\n",
    "\n",
    "mobi = Dog('Mobius')\n",
    "mobi.make_sound()"
   ]
  },
  {
   "cell_type": "markdown",
   "metadata": {},
   "source": [
    "# Today's topics\n",
    "<br>\n",
    "<font size=\"2\">\n",
    "1. Multiple inheritance\n",
    "<br>\n",
    "<br>\n",
    "2. Compositions - motivation, mechanics, intuition\n",
    "<br>\n",
    "<br>\n",
    "3. Dunder methods intro  (time permitting)  \n",
    "</font>"
   ]
  },
  {
   "cell_type": "code",
   "execution_count": null,
   "metadata": {},
   "outputs": [],
   "source": [
    "# Multiple inheritance: a very simple illustration\n",
    "\n",
    "class Swimmer:\n",
    "    pass\n",
    "\n",
    "\n",
    "class Flyer:\n",
    "    pass\n",
    "\n",
    "\n",
    "# To inherit from multiple classes, all you have to do is list out all the parent classes\n",
    "\n",
    "class FlyingFish(Swimmer, Flyer):\n",
    "    \n",
    "    def __init__(self, name=''):\n",
    "        self.name= name\n",
    "\n",
    "\n",
    "# Create an object of type FlyingFish       \n",
    "s1 = FlyingFish('Leo')"
   ]
  },
  {
   "cell_type": "code",
   "execution_count": 1,
   "metadata": {},
   "outputs": [],
   "source": [
    "# Now let's add some methods to this class: \n",
    "\n",
    "\n",
    "class Swimmer:\n",
    "    \n",
    "    def __init__(self, name=''):\n",
    "        self.name = name\n",
    "        \n",
    "    def make_swim(self):\n",
    "        print(self.name, \"is swimming.\")\n",
    "    \n",
    "    def make_sound(self):\n",
    "        print(self.name, \"is whistling.\")\n",
    "        \n",
    "    def make_eat(self):\n",
    "        print (\"Eat corn\")\n",
    "\n",
    "\n",
    "class Flyer:\n",
    "    \n",
    "    def __init__(self, name=''):\n",
    "        self.name = name\n",
    "        \n",
    "    def make_fly(self):\n",
    "        print(self.name, \"is flying.\") \n",
    "    \n",
    "    def make_sound(self):\n",
    "        print(self.name, \"is chirping.\")\n",
    "        \n",
    "    def make_eat(self):\n",
    "        print (\"Eat apple\")\n",
    "    \n",
    "\n",
    "# To inherit from multiple classes, all you have to do is list out all the parent classes\n",
    "\n",
    "class FlyingFish(Swimmer, Flyer):\n",
    "    \n",
    "    def __init__(self, name=''):\n",
    "        self.name= name\n",
    "        print(self.name, \"is now alive and kicking.\")\n",
    "        \n",
    "\n",
    "        \n",
    "    \n",
    "# Let's create an object of class FlyingFish   \n",
    "#s1 = FlyingFish('Fin') \n",
    "\n",
    "# If we call make_fly method on that object, what would happen? \n",
    "#s1.make_fly()\n",
    "\n",
    "# If we call make_fly method on that object, what would happen? \n",
    "#s1.make_swim()\n",
    "\n",
    "# If we call make_sound method on that object, what would happen? \n",
    "#s1.make_sound()\n",
    "\n",
    "\n",
    "\n",
    "# Exercise\n",
    "\n",
    "# Does the order in which we list out the parent classes matter?\n",
    "# Test it by switching the order in the definition of FlyingFish!"
   ]
  },
  {
   "cell_type": "code",
   "execution_count": null,
   "metadata": {
    "scrolled": true
   },
   "outputs": [],
   "source": [
    "#######################################################\n",
    "# Breakout Room Exercise\n",
    "#######################################################\n",
    "\n",
    "\n",
    "class Swimmer:\n",
    "    \n",
    "    def __init__(self, name=''):\n",
    "        self.name = name\n",
    "        \n",
    "    def make_swim(self):\n",
    "        print(self.name, \"is swimming.\")\n",
    "    \n",
    "    def make_sound(self):\n",
    "        print(self.name, \"is whistling.\")\n",
    "\n",
    "\n",
    "class Flyer:\n",
    "    \n",
    "    def __init__(self, name=''):\n",
    "        self.name = name\n",
    "        \n",
    "    def make_fly(self):\n",
    "        print(self.name, \"is flying.\") \n",
    "    \n",
    "    def make_sound(self):\n",
    "        print(self.name, \"is chirping.\")\n",
    "\n",
    "\n",
    "\n",
    "#########################################################        \n",
    "# Exercise\n",
    "##########################################################\n",
    "\n",
    "\n",
    "# Q1) We want to create a robot that has both swim and fly functionalities.\n",
    "# That means Robot objects should be able to call make_swim() and make_fly()\n",
    "# How do we do that using multiple inheritance?\n",
    "\n",
    "\n",
    "\n",
    "# You can start by modifying the following code:\n",
    "\n",
    "class Robot:\n",
    "     \n",
    "    def __init__(self, name=''):\n",
    "        self.name = name\n",
    "        print(self.name, \"is now alive and using energy.\")\n",
    "        \n",
    "\n",
    "       \n",
    "            \n",
    "        \n",
    "        \n",
    "# Q2) Now we want the Robot class to have a make_sound() method that can make\n",
    "#     its objects whistle and chirp. Check it behaves as you intend it to.\n",
    "\n",
    "\n",
    "\n",
    "\n",
    "\n",
    "\n",
    "\n",
    "\n"
   ]
  },
  {
   "cell_type": "markdown",
   "metadata": {},
   "source": [
    "<font size=\"2\">\n",
    "<span style=\"color:blue\"> How about the case when we need to derive from a large number of classes?</span>\n",
    "\n",
    "* Things can get a little complicated if the number of classes to inherit from is large. \n",
    "<br>\n",
    "<br>\n",
    "* It can make your code hard to follow. \n",
    "<br>\n",
    "<br>\n",
    "* It is very easy to change or add or rename a method on a class, or to modify an inheritance hierarchy in some way, so that the unintended method is now being called in the derived class or the code breaks.\n",
    "</font>"
   ]
  },
  {
   "cell_type": "markdown",
   "metadata": {},
   "source": [
    "# Composition\n",
    "<br>\n",
    "<font size=\"2\">\n",
    "    1. A composite class creates objects of other (component) classes in its definition.\n",
    "<br>\n",
    "<br>\n",
    "    2. By creating the objects inside the class definition, we can access members of the component \n",
    "    classes from the composite class.\n",
    "<br>\n",
    "<br>\n",
    "    3. Composition enables creation of complex types by combining objects of different classes.\n",
    "\n"
   ]
  },
  {
   "cell_type": "code",
   "execution_count": null,
   "metadata": {},
   "outputs": [],
   "source": [
    "# Demo: Implementing composition for the previous exercise\n",
    "\n",
    "# Note that Robot doesn't inherit from any other class\n",
    "\n",
    "class Robot:\n",
    "     \n",
    "    def __init__(self, name=''):\n",
    "        \n",
    "        '''This is an example of composition.'''\n",
    "        self.name = name  \n",
    "        print(self.name, \"is now alive and using energy.\")       \n",
    "\n",
    "        \n",
    "        \n",
    "        \n",
    "# Test\n"
   ]
  },
  {
   "cell_type": "code",
   "execution_count": null,
   "metadata": {},
   "outputs": [],
   "source": [
    "# Illustration: syntax\n",
    "\n",
    "class Component:\n",
    "    \n",
    "    def __init__(self):\n",
    "        pass\n",
    "        \n",
    "    def do_something(self):\n",
    "        print(\"Doing somehting from the Component!\")\n",
    "\n",
    "        \n",
    "class Composite:\n",
    "    \n",
    "    def __init__(self):    \n",
    "        self.component = Component()\n",
    "        \n",
    "        \n",
    "    def do_something(self):   \n",
    "        self.component.do_something()\n",
    "    "
   ]
  },
  {
   "cell_type": "code",
   "execution_count": null,
   "metadata": {},
   "outputs": [],
   "source": [
    "# Give an example where there is-a vs has-a relationship."
   ]
  },
  {
   "cell_type": "markdown",
   "metadata": {},
   "source": [
    "### How does composition paradigm differ from inheritance?\n",
    "<br>\n",
    "<font size=\"2\">\n",
    "1. Inheritance addresses <span style=\"color:blue\">is-a</span> relationship. \n",
    "<br>\n",
    "<br>\n",
    "2. Composition addresses <span style=\"color:blue\"> has-a</span> relationship.\n",
    "<br>\n",
    "<br>\n",
    "3. Composition consists of a class being composed of instances of one or more other classes.\n",
    "<br>\n",
    "<br>\n",
    "4. Inheritance is used where a class wants to derive the nature of parent class and then modify or extend the functionality of it.\n",
    "\n",
    "</font>"
   ]
  },
  {
   "cell_type": "markdown",
   "metadata": {},
   "source": [
    "## Dunder methods"
   ]
  },
  {
   "cell_type": "code",
   "execution_count": null,
   "metadata": {
    "scrolled": true
   },
   "outputs": [],
   "source": [
    "# Everything in Python inherits from the object class.\n",
    "\n",
    "#help(object)\n",
    "#dir(object)"
   ]
  },
  {
   "cell_type": "markdown",
   "metadata": {},
   "source": [
    "##  \\__str\\__()\n",
    "<br>\n",
    "\n",
    "This method returns the string representation of the object. It is called when print() or str() function is invoked on an object.\n",
    "\n",
    "##  \\__repr\\__()\n",
    "<br>\n",
    "Python __repr__() function returns the object representation in string format. This method is called when repr() function is invoked on the object. \n"
   ]
  },
  {
   "cell_type": "code",
   "execution_count": null,
   "metadata": {},
   "outputs": [],
   "source": [
    "# For further references on the difference between these two methods\n",
    "# https://stackoverflow.com/questions/1436703/difference-between-str-and-repr\n",
    "\n",
    "\n",
    "class Swimmer:\n",
    "    \n",
    "    '''Swimmer objects have a name, can swim and make sound.'''\n",
    "    \n",
    "    def __init__(self, name=''):\n",
    "        self.name = name\n",
    "        \n",
    "    def make_swim(self):\n",
    "        print(self.name, \"is swimming.\")\n",
    "    \n",
    "    def make_sound(self):\n",
    "        print(self.name, \"is whistling.\")\n"
   ]
  },
  {
   "cell_type": "code",
   "execution_count": null,
   "metadata": {},
   "outputs": [],
   "source": [
    "# Demo\n",
    "\n",
    "fish = Swimmer('Dory')\n",
    "\n",
    "#print(fish)\n",
    "#print(str(fish))\n",
    "#print(repr(fish))"
   ]
  },
  {
   "cell_type": "markdown",
   "metadata": {},
   "source": [
    "### Question\n",
    "\n",
    "\n",
    "<font size=\"2\">\n",
    "If every things inherits from the object class and these are methods in the object class, can I override them in my class?\n",
    "</font>"
   ]
  },
  {
   "cell_type": "markdown",
   "metadata": {},
   "source": [
    "### Tips:\n",
    "\n",
    "1. The \\__str\\__ string representation should be human-friendly.\n",
    "\n",
    "2. The \\__repr\\__ representation should contain information about object so that it could be constructed again. \n",
    " \n",
    " For further reference: \n",
    " https://stackoverflow.com/questions/1436703/difference-between-str-and-repr"
   ]
  },
  {
   "cell_type": "code",
   "execution_count": null,
   "metadata": {},
   "outputs": [],
   "source": [
    "# Exercise\n",
    "\n",
    "\n",
    "class Swimmer:\n",
    "    \n",
    "    '''Swimmer objects have a name, can swim and make sound.'''\n",
    "    \n",
    "    def __init__(self, name=''):\n",
    "        self.name = name\n",
    "        \n",
    "    def make_swim(self):\n",
    "        print(self.name, \"is swimming.\")\n",
    "    \n",
    "    def make_sound(self):\n",
    "        print(self.name, \"is whistling.\")\n",
    "                \n",
    "    def __str__(self):\n",
    "        \n",
    "        '''User-friendly information about object'''\n",
    "        return 'My name is {}.'.format(self.name)\n",
    "    \n",
    "    def __repr__(self):\n",
    "        \n",
    "        '''Technical information about the object'''\n",
    "        return f'Swimmer(name=\"{self.name}\")'\n",
    "    \n",
    "\n",
    "# Test the following lines of code. How do they differ from earlier?\n",
    "\n",
    "fish = Swimmer('Dory')\n",
    "\n",
    "\n",
    "# Print information about this object using print(), str() and repr() methods.\n",
    "# What do you observe?\n",
    "\n",
    "print(fish)\n",
    "print(str(fish))\n",
    "print(repr(fish))"
   ]
  },
  {
   "cell_type": "code",
   "execution_count": null,
   "metadata": {},
   "outputs": [],
   "source": [
    "s1 = Swimmer(name=\"Dory\")"
   ]
  },
  {
   "cell_type": "markdown",
   "metadata": {},
   "source": [
    "# Today's summary:\n",
    "<br>\n",
    "<font size=\"2\">\n",
    "1. Inheritance <span style=\"color:blue\">is-a</span> relationship.\n",
    "<br>\n",
    "<br>\n",
    "2. Composition <span style=\"color:blue\">has-a</span> relationship.\n",
    "<br>\n",
    "<br>    \n",
    "3. Overriding the dunder methods in your class implementation."
   ]
  },
  {
   "cell_type": "markdown",
   "metadata": {},
   "source": [
    "# Skill check\n",
    "\n",
    "<br>\n",
    "<font size=\"2\">\n",
    "You should be able to: \n",
    "\n",
    "1. create single, multiple inheritances and override emthods.\n",
    "<br>\n",
    "2. create a composite class and use functionality from the component class.\n",
    "<br>\n",
    "3. know the basic difference between inheritance and composition.\n",
    "<br>    \n",
    "4. override the \\__str\\__ method with a user-friendly version in your own class.\n"
   ]
  },
  {
   "cell_type": "markdown",
   "metadata": {},
   "source": [
    "# Coming up ..."
   ]
  },
  {
   "cell_type": "markdown",
   "metadata": {},
   "source": [
    "1. Dunder methods continued\n",
    "2. Class methods and static methods\n",
    "3. Duck Typing (Python programming model)"
   ]
  },
  {
   "cell_type": "code",
   "execution_count": 2,
   "metadata": {},
   "outputs": [
    {
     "data": {
      "image/jpeg": "[encoded data removed]",
      "text/plain": [
       "<IPython.core.display.Image object>"
      ]
     },
     "execution_count": 2,
     "metadata": {},
     "output_type": "execute_result"
    }
   ],
   "source": [
    "from IPython.display import Image\n",
    "Image(\"figs/duck_typing.jpeg\")\n",
    "\n",
    "# image source: Twitter"
   ]
  },
  {
   "cell_type": "markdown",
   "metadata": {},
   "source": [
    "\n",
    "\"If it looks like a duck, swims like a duck, and quacks like a duck, then it probably is a duck.\""
   ]
  },
  {
   "cell_type": "code",
   "execution_count": null,
   "metadata": {},
   "outputs": [],
   "source": []
  }
 ],
 "metadata": {
  "kernelspec": {
   "display_name": "Python 2",
   "language": "python",
   "name": "python2"
  },
  "language_info": {
   "codemirror_mode": {
    "name": "ipython",
    "version": 3
   },
   "file_extension": ".py",
   "mimetype": "text/x-python",
   "name": "python",
   "nbconvert_exporter": "python",
   "pygments_lexer": "ipython3",
   "version": "3.7.0"
  }
 },
 "nbformat": 4,
 "nbformat_minor": 2
}
